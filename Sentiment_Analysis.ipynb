{
  "nbformat": 4,
  "nbformat_minor": 0,
  "metadata": {
    "colab": {
      "name": "Sentiment_Analysis",
      "provenance": [],
      "collapsed_sections": []
    },
    "kernelspec": {
      "name": "python3",
      "display_name": "Python 3"
    }
  },
  "cells": [
    {
      "cell_type": "code",
      "metadata": {
        "id": "1zNxzcHbtIE5",
        "colab_type": "code",
        "colab": {
          "base_uri": "https://localhost:8080/",
          "height": 191
        },
        "outputId": "bb81a3e8-789b-4a27-92f9-feef71183b58"
      },
      "source": [
        "#Installing the vaderSentiment\n",
        "!pip install vaderSentiment"
      ],
      "execution_count": 4,
      "outputs": [
        {
          "output_type": "stream",
          "text": [
            "Collecting vaderSentiment\n",
            "\u001b[?25l  Downloading https://files.pythonhosted.org/packages/76/fc/310e16254683c1ed35eeb97386986d6c00bc29df17ce280aed64d55537e9/vaderSentiment-3.3.2-py2.py3-none-any.whl (125kB)\n",
            "\r\u001b[K     |██▋                             | 10kB 15.9MB/s eta 0:00:01\r\u001b[K     |█████▏                          | 20kB 1.8MB/s eta 0:00:01\r\u001b[K     |███████▉                        | 30kB 2.3MB/s eta 0:00:01\r\u001b[K     |██████████▍                     | 40kB 2.6MB/s eta 0:00:01\r\u001b[K     |█████████████                   | 51kB 2.0MB/s eta 0:00:01\r\u001b[K     |███████████████▋                | 61kB 2.3MB/s eta 0:00:01\r\u001b[K     |██████████████████▏             | 71kB 2.6MB/s eta 0:00:01\r\u001b[K     |████████████████████▉           | 81kB 2.8MB/s eta 0:00:01\r\u001b[K     |███████████████████████▍        | 92kB 3.0MB/s eta 0:00:01\r\u001b[K     |██████████████████████████      | 102kB 2.9MB/s eta 0:00:01\r\u001b[K     |████████████████████████████▋   | 112kB 2.9MB/s eta 0:00:01\r\u001b[K     |███████████████████████████████▏| 122kB 2.9MB/s eta 0:00:01\r\u001b[K     |████████████████████████████████| 133kB 2.9MB/s \n",
            "\u001b[?25hRequirement already satisfied: requests in /usr/local/lib/python3.6/dist-packages (from vaderSentiment) (2.23.0)\n",
            "Requirement already satisfied: idna<3,>=2.5 in /usr/local/lib/python3.6/dist-packages (from requests->vaderSentiment) (2.10)\n",
            "Requirement already satisfied: chardet<4,>=3.0.2 in /usr/local/lib/python3.6/dist-packages (from requests->vaderSentiment) (3.0.4)\n",
            "Requirement already satisfied: certifi>=2017.4.17 in /usr/local/lib/python3.6/dist-packages (from requests->vaderSentiment) (2020.6.20)\n",
            "Requirement already satisfied: urllib3!=1.25.0,!=1.25.1,<1.26,>=1.21.1 in /usr/local/lib/python3.6/dist-packages (from requests->vaderSentiment) (1.24.3)\n",
            "Installing collected packages: vaderSentiment\n",
            "Successfully installed vaderSentiment-3.3.2\n"
          ],
          "name": "stdout"
        }
      ]
    },
    {
      "cell_type": "code",
      "metadata": {
        "id": "YxwVAGbZtkce",
        "colab_type": "code",
        "colab": {}
      },
      "source": [
        "#Import vaderSentiment\n",
        "import vaderSentiment as vs"
      ],
      "execution_count": 5,
      "outputs": []
    },
    {
      "cell_type": "code",
      "metadata": {
        "id": "6TwP-7-Yuamj",
        "colab_type": "code",
        "colab": {}
      },
      "source": [
        "#Import SentimentIntensityAnalyzer class (No need to train a model)\n",
        "from vaderSentiment.vaderSentiment import SentimentIntensityAnalyzer"
      ],
      "execution_count": 8,
      "outputs": []
    },
    {
      "cell_type": "code",
      "metadata": {
        "id": "gXoGrgdluoDJ",
        "colab_type": "code",
        "colab": {}
      },
      "source": [
        "#Sentiment Analyzer\n",
        "sia = SentimentIntensityAnalyzer()"
      ],
      "execution_count": 9,
      "outputs": []
    },
    {
      "cell_type": "code",
      "metadata": {
        "id": "pK1l7xoTu4kY",
        "colab_type": "code",
        "colab": {}
      },
      "source": [
        "#Creating a list of sentences to analyze\n",
        "sentences = [\"The food is amazing and really tasty!\",\n",
        "             \"Exoplanets are planets outside our Solar System.\",\n",
        "             \"This is really sad to see such a behaviour in the company\"]"
      ],
      "execution_count": 10,
      "outputs": []
    },
    {
      "cell_type": "code",
      "metadata": {
        "id": "AvV-pIhBvd80",
        "colab_type": "code",
        "colab": {
          "base_uri": "https://localhost:8080/",
          "height": 69
        },
        "outputId": "1d73a7c8-0c82-4c7c-aed7-58108fb17130"
      },
      "source": [
        "#Apply sentiment analysis using polarity_scores() method from SentimentIntensityAnalyzer class\n",
        "for x in sentences:\n",
        "  score = sia.polarity_scores(x)[\"compound\"]\n",
        "  print(f'The sentiment value of the sentence:\"{x}\" is: {score}')"
      ],
      "execution_count": 11,
      "outputs": [
        {
          "output_type": "stream",
          "text": [
            "The sentiment value of the sentence:\"The food is amazing and really tasty!\" is: 0.6239\n",
            "The sentiment value of the sentence:\"Exoplanets are planets outside our Solar System.\" is: 0.0\n",
            "The sentiment value of the sentence:\"This is really sad to see such a behaviour in the company\" is: -0.5256\n"
          ],
          "name": "stdout"
        }
      ]
    },
    {
      "cell_type": "markdown",
      "metadata": {
        "id": "9ddIOXPPyxYH",
        "colab_type": "text"
      },
      "source": [
        "#####Score closer to -1 is a Negative Sentence\n",
        "#####Score 0 is a Neutral Sentence\n",
        "#####Score closer to +1 is a Positive Sentence"
      ]
    },
    {
      "cell_type": "code",
      "metadata": {
        "id": "da23RcK_ybIi",
        "colab_type": "code",
        "colab": {
          "base_uri": "https://localhost:8080/",
          "height": 277
        },
        "outputId": "0f043224-7d21-4baa-f5a5-5acf3b042b88"
      },
      "source": [
        "#Computing the Positive, Negative and Neutral Sentiment in each of the above sentences\n",
        "#Using the keys \"pos\", \"neu\", \"neg\"\n",
        "\n",
        "for x in sentences:\n",
        "  polarity = sia.polarity_scores(x)\n",
        "  positive = polarity[\"pos\"]\n",
        "  neutral = polarity[\"neu\"]\n",
        "  negative = polarity[\"neg\"]\n",
        "  print(f'For Sentence: \"{x}\"')\n",
        "  print(f'Percentage of positive sentiment is: \"{round(positive*100,2)}\" %')\n",
        "  print(f'Percentage of neutral sentiment is: \"{round(neutral*100,2)}\" %')\n",
        "  print(f'Percentage of negative sentiment is: \"{round(negative*100,2)}\" %')\n",
        "  print(\"-\"*100)"
      ],
      "execution_count": 19,
      "outputs": [
        {
          "output_type": "stream",
          "text": [
            "For Sentence: \"The food is amazing and really tasty!\"\n",
            "Percentage of positive sentiment is: \"40.5\" %\n",
            "Percentage of neutral sentiment is: \"59.5\" %\n",
            "Percentage of negative sentiment is: \"0.0\" %\n",
            "----------------------------------------------------------------------------------------------------\n",
            "For Sentence: \"Exoplanets are planets outside our Solar System.\"\n",
            "Percentage of positive sentiment is: \"0.0\" %\n",
            "Percentage of neutral sentiment is: \"100.0\" %\n",
            "Percentage of negative sentiment is: \"0.0\" %\n",
            "----------------------------------------------------------------------------------------------------\n",
            "For Sentence: \"This is really sad to see such a behaviour in the company\"\n",
            "Percentage of positive sentiment is: \"0.0\" %\n",
            "Percentage of neutral sentiment is: \"76.4\" %\n",
            "Percentage of negative sentiment is: \"23.6\" %\n",
            "----------------------------------------------------------------------------------------------------\n"
          ],
          "name": "stdout"
        }
      ]
    },
    {
      "cell_type": "code",
      "metadata": {
        "id": "6ZOHFPCc3d13",
        "colab_type": "code",
        "colab": {}
      },
      "source": [
        ""
      ],
      "execution_count": null,
      "outputs": []
    }
  ]
}